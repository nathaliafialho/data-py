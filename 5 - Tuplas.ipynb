{
 "cells": [
  {
   "cell_type": "markdown",
   "id": "5d75ea61",
   "metadata": {},
   "source": [
    "# Tuplas \n",
    "\n",
    "- São imutáveis: não podem ser alterados. \n",
    "- Usados em dados que não sofrem mudança. \n",
    "\n"
   ]
  },
  {
   "cell_type": "code",
   "execution_count": 1,
   "id": "62fe9cd3",
   "metadata": {},
   "outputs": [],
   "source": [
    "tupla = (\"exemplo\", 21, \"ventilador\")"
   ]
  },
  {
   "cell_type": "code",
   "execution_count": 2,
   "id": "aefbdd97",
   "metadata": {},
   "outputs": [
    {
     "data": {
      "text/plain": [
       "('exemplo', 21, 'ventilador')"
      ]
     },
     "execution_count": 2,
     "metadata": {},
     "output_type": "execute_result"
    }
   ],
   "source": [
    "tupla"
   ]
  },
  {
   "cell_type": "code",
   "execution_count": 4,
   "id": "6d9c3455",
   "metadata": {},
   "outputs": [
    {
     "data": {
      "text/plain": [
       "'exemplo'"
      ]
     },
     "execution_count": 4,
     "metadata": {},
     "output_type": "execute_result"
    }
   ],
   "source": [
    "tupla[0]"
   ]
  },
  {
   "cell_type": "code",
   "execution_count": 6,
   "id": "fe409a95",
   "metadata": {},
   "outputs": [
    {
     "data": {
      "text/plain": [
       "('exemplo', 21)"
      ]
     },
     "execution_count": 6,
     "metadata": {},
     "output_type": "execute_result"
    }
   ],
   "source": [
    "tupla[:2]"
   ]
  },
  {
   "cell_type": "code",
   "execution_count": 7,
   "id": "a1d72994",
   "metadata": {},
   "outputs": [
    {
     "data": {
      "text/plain": [
       "('1', '2', '3')"
      ]
     },
     "execution_count": 7,
     "metadata": {},
     "output_type": "execute_result"
    }
   ],
   "source": [
    "tupla1= ('1', '2', '3')\n",
    "tupla1"
   ]
  }
 ],
 "metadata": {
  "kernelspec": {
   "display_name": "Python 3",
   "language": "python",
   "name": "python3"
  },
  "language_info": {
   "codemirror_mode": {
    "name": "ipython",
    "version": 3
   },
   "file_extension": ".py",
   "mimetype": "text/x-python",
   "name": "python",
   "nbconvert_exporter": "python",
   "pygments_lexer": "ipython3",
   "version": "3.8.8"
  }
 },
 "nbformat": 4,
 "nbformat_minor": 5
}
