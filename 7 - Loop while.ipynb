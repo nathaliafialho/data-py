{
 "cells": [
  {
   "cell_type": "markdown",
   "source": [
    "# Loop While "
   ],
   "metadata": {}
  },
  {
   "cell_type": "code",
   "execution_count": 2,
   "source": [
    "# imprimindo valores de 0 a 9\r\n",
    "x = 0 \r\n",
    "while x < 10:\r\n",
    "    print(x)\r\n",
    "    x+=1\r\n"
   ],
   "outputs": [
    {
     "output_type": "stream",
     "name": "stdout",
     "text": [
      "0\n",
      "1\n",
      "2\n",
      "3\n",
      "4\n",
      "5\n",
      "6\n",
      "7\n",
      "8\n",
      "9\n"
     ]
    }
   ],
   "metadata": {}
  },
  {
   "cell_type": "code",
   "execution_count": 3,
   "source": [
    "cont = 0\r\n",
    "while (cont < 5):\r\n",
    "    print(cont)\r\n",
    "    cont = cont + 1 \r\n",
    "else:\r\n",
    "    print('cai do else')"
   ],
   "outputs": [
    {
     "output_type": "stream",
     "name": "stdout",
     "text": [
      "0\n",
      "1\n",
      "2\n",
      "3\n",
      "4\n",
      "cai do else\n"
     ]
    }
   ],
   "metadata": {}
  },
  {
   "cell_type": "code",
   "execution_count": 4,
   "source": [
    "i = 0\r\n",
    "while i < 10:\r\n",
    "    print(i)\r\n",
    "    i+= 1\r\n",
    "    if i == 6:\r\n",
    "        print('i igual a 6')\r\n",
    "        break\r\n",
    "else:\r\n",
    "    print('fim while') "
   ],
   "outputs": [
    {
     "output_type": "stream",
     "name": "stdout",
     "text": [
      "0\n",
      "1\n",
      "2\n",
      "3\n",
      "4\n",
      "5\n",
      "i igual a 6\n"
     ]
    }
   ],
   "metadata": {}
  },
  {
   "cell_type": "code",
   "execution_count": null,
   "source": [
    "# while (condicao):\r\n",
    "#      'executar condicoes'\r\n",
    "# else:\r\n",
    "#       ' executar outras condicoes'"
   ],
   "outputs": [],
   "metadata": {}
  },
  {
   "cell_type": "code",
   "execution_count": 5,
   "source": [
    "dias = ['segunda', 'terca', 'quarta']\r\n",
    "i=0\r\n",
    "\r\n",
    "while dias:\r\n",
    "    if i == 1:\r\n",
    "        print(\"dia\" , i ,\"da lista é\", dias[i])\r\n",
    "        break\r\n",
    "    i += 1\r\n",
    "\r\n"
   ],
   "outputs": [
    {
     "output_type": "stream",
     "name": "stdout",
     "text": [
      "dia 1 da lista é terca\n"
     ]
    }
   ],
   "metadata": {}
  }
 ],
 "metadata": {
  "orig_nbformat": 4,
  "language_info": {
   "name": "python",
   "version": "3.8.8",
   "mimetype": "text/x-python",
   "codemirror_mode": {
    "name": "ipython",
    "version": 3
   },
   "pygments_lexer": "ipython3",
   "nbconvert_exporter": "python",
   "file_extension": ".py"
  },
  "kernelspec": {
   "name": "python3",
   "display_name": "Python 3.8.8 64-bit ('base': conda)"
  },
  "interpreter": {
   "hash": "20c881e4e7fc08b94c9360dc1aa7abde0eabd089287124eee9dacc6c8d8f04ba"
  }
 },
 "nbformat": 4,
 "nbformat_minor": 2
}