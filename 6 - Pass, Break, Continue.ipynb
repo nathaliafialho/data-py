{
 "cells": [
  {
   "cell_type": "markdown",
   "source": [
    "# Pass, Break, Continue \r\n"
   ],
   "metadata": {}
  },
  {
   "cell_type": "code",
   "execution_count": 1,
   "source": [
    "x = 0;\r\n",
    "while x < 100:\r\n",
    "    if x == 4:\r\n",
    "        break #para a execucao\r\n",
    "    else:\r\n",
    "        pass # continuar a execucao \r\n",
    "    print(x)\r\n",
    "    x+=1 #atribui mais um ao contador"
   ],
   "outputs": [
    {
     "output_type": "stream",
     "name": "stdout",
     "text": [
      "0\n",
      "1\n",
      "2\n",
      "3\n"
     ]
    }
   ],
   "metadata": {}
  },
  {
   "cell_type": "code",
   "execution_count": 2,
   "source": [
    "for verif in 'Python':\r\n",
    "    if verif == 'y':\r\n",
    "        continue\r\n",
    "    print(verif)"
   ],
   "outputs": [
    {
     "output_type": "stream",
     "name": "stdout",
     "text": [
      "P\n",
      "t\n",
      "h\n",
      "o\n",
      "n\n"
     ]
    }
   ],
   "metadata": {}
  },
  {
   "cell_type": "code",
   "execution_count": 4,
   "source": [
    "for i in range(2, 30):\r\n",
    "    x = 2\r\n",
    "    count = 0\r\n",
    "    while x < i:\r\n",
    "        if i%x == 0:\r\n",
    "            count = 1\r\n",
    "            x = x+1\r\n",
    "        else:\r\n",
    "            x=x+1\r\n",
    "    \r\n",
    "    if count == 0:\r\n",
    "        print(str(i) + 'é numero primo') \r\n",
    "        count = 0\r\n",
    "    else:\r\n",
    "        count = 0"
   ],
   "outputs": [
    {
     "output_type": "stream",
     "name": "stdout",
     "text": [
      "2é numero primo\n",
      "3é numero primo\n",
      "5é numero primo\n",
      "7é numero primo\n",
      "11é numero primo\n",
      "13é numero primo\n",
      "17é numero primo\n",
      "19é numero primo\n",
      "23é numero primo\n",
      "29é numero primo\n"
     ]
    }
   ],
   "metadata": {}
  }
 ],
 "metadata": {
  "language_info": {
   "name": "python",
   "version": "3.8.8",
   "mimetype": "text/x-python",
   "codemirror_mode": {
    "name": "ipython",
    "version": 3
   },
   "pygments_lexer": "ipython3",
   "nbconvert_exporter": "python",
   "file_extension": ".py"
  },
  "kernelspec": {
   "name": "python3",
   "display_name": "Python 3.8.8 64-bit ('base': conda)"
  },
  "interpreter": {
   "hash": "20c881e4e7fc08b94c9360dc1aa7abde0eabd089287124eee9dacc6c8d8f04ba"
  }
 },
 "nbformat": 4,
 "nbformat_minor": 5
}