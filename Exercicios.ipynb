{
 "cells": [
  {
   "cell_type": "markdown",
   "id": "65f1f133",
   "metadata": {},
   "source": [
    "# Exercicios Python 01 \n",
    "\n"
   ]
  },
  {
   "cell_type": "code",
   "execution_count": 1,
   "id": "6b699f8f",
   "metadata": {},
   "outputs": [
    {
     "data": {
      "text/plain": [
       "[1, 2, 3, 4, 5, 6, 7, 8, 9, 10]"
      ]
     },
     "execution_count": 1,
     "metadata": {},
     "output_type": "execute_result"
    }
   ],
   "source": [
    "# Exercicio 1 - Imprima na tela os números de 1 a 10. Use uma lista para armazenar os números.\n",
    "lista = [1,2,3,4,5,6,7,8,9,10]\n",
    "lista"
   ]
  },
  {
   "cell_type": "code",
   "execution_count": 2,
   "id": "060e8cfc",
   "metadata": {},
   "outputs": [
    {
     "data": {
      "text/plain": [
       "['pao', 'maca', 'uva', 'ouro', 'prata']"
      ]
     },
     "execution_count": 2,
     "metadata": {},
     "output_type": "execute_result"
    }
   ],
   "source": [
    "# Exercício 2 - Crie uma lista de 5 objetos e imprima na tela\n",
    "lista2 = ['pao', 'maca', 'uva', 'ouro', 'prata']\n",
    "lista2"
   ]
  },
  {
   "cell_type": "code",
   "execution_count": 3,
   "id": "b0ced8ce",
   "metadata": {},
   "outputs": [
    {
     "data": {
      "text/plain": [
       "'nathaliafialho'"
      ]
     },
     "execution_count": 3,
     "metadata": {},
     "output_type": "execute_result"
    }
   ],
   "source": [
    "# Exercício 3 - Crie duas strings e concatene as duas em uma terceira string\n",
    "string1 = 'nathalia'\n",
    "string2 = 'fialho'\n",
    "string_concatenada = string1 + string2\n",
    "string_concatenada"
   ]
  },
  {
   "cell_type": "code",
   "execution_count": 4,
   "id": "3df9fb79",
   "metadata": {},
   "outputs": [
    {
     "data": {
      "text/plain": [
       "3"
      ]
     },
     "execution_count": 4,
     "metadata": {},
     "output_type": "execute_result"
    }
   ],
   "source": [
    "# Exercício 4 - Crie uma tupla com os seguintes elementos: 1, 2, 2, 3, 4, 4, 4, 5 e depois utilize a função count do \n",
    "# objeto tupla para verificar quantas vezes o número 4 aparece na tupla\n",
    "tupla = (1, 2, 2, 3, 4, 4, 4, 5)\n",
    "tupla.count(4)"
   ]
  },
  {
   "cell_type": "code",
   "execution_count": 5,
   "id": "5afb8e3c",
   "metadata": {},
   "outputs": [
    {
     "data": {
      "text/plain": [
       "{}"
      ]
     },
     "execution_count": 5,
     "metadata": {},
     "output_type": "execute_result"
    }
   ],
   "source": [
    "# Exercício 5 - Crie um dicionário vazio e imprima na tela\n",
    "disc = {}\n",
    "disc"
   ]
  },
  {
   "cell_type": "code",
   "execution_count": 6,
   "id": "a55d0a78",
   "metadata": {},
   "outputs": [
    {
     "data": {
      "text/plain": [
       "{'ex': 1, 'ouro': 2, 'violino': 3}"
      ]
     },
     "execution_count": 6,
     "metadata": {},
     "output_type": "execute_result"
    }
   ],
   "source": [
    "# Exercício 6 - Crie um dicionário com 3 chaves e 3 valores e imprima na tela\n",
    "disc1 = {'ex': 1, 'ouro': 2, 'violino': 3}\n",
    "disc1"
   ]
  },
  {
   "cell_type": "code",
   "execution_count": 7,
   "id": "08a3bafc",
   "metadata": {},
   "outputs": [
    {
     "data": {
      "text/plain": [
       "{'ex': 1, 'ouro': 2, 'violino': 3, 'ouvido': '5'}"
      ]
     },
     "execution_count": 7,
     "metadata": {},
     "output_type": "execute_result"
    }
   ],
   "source": [
    "# Exercício 7 - Adicione mais um elemento ao dicionário criado no exercício anterior e imprima na tela\n",
    "disc1['ouvido'] = '5'\n",
    "disc1"
   ]
  },
  {
   "cell_type": "code",
   "execution_count": 8,
   "id": "730359ab",
   "metadata": {},
   "outputs": [
    {
     "data": {
      "text/plain": [
       "{'pedro': 20, 'lucas': 15, 'matheus': 40, 'chave': [50, 70]}"
      ]
     },
     "execution_count": 8,
     "metadata": {},
     "output_type": "execute_result"
    }
   ],
   "source": [
    "# Exercício 8 - Crie um dicionário com 3 chaves e 3 valores. Um dos valores deve ser uma lista de 2 elementos numéricos. \n",
    "# Imprima o dicionário na tela.\n",
    "option = {'pedro': 20, 'lucas':15, 'matheus': 40, 'chave': [50, 70]}\n",
    "option"
   ]
  },
  {
   "cell_type": "code",
   "execution_count": 9,
   "id": "e8a0b88c",
   "metadata": {},
   "outputs": [
    {
     "data": {
      "text/plain": [
       "['nathalia', ('tuplaEx1', 'tuplaEx2'), {'nathalia': 23, 'kamilla': 25}, 56.42]"
      ]
     },
     "execution_count": 9,
     "metadata": {},
     "output_type": "execute_result"
    }
   ],
   "source": [
    "# Exercício 9 - Crie uma lista de 4 elementos. O primeiro elemento deve ser uma string, \n",
    "# o segundo uma tupla de 2 elementos, o terceiro um dcionário com 2 chaves e 2 valores e \n",
    "# o quarto elemento um valor do tipo float.\n",
    "# Imprima a lista na tela.\n",
    "\n",
    "lista_exemplo = ['nathalia', ('tuplaEx1', 'tuplaEx2'), {'nathalia':23, 'kamilla': 25}, 56.42]\n",
    "lista_exemplo"
   ]
  },
  {
   "cell_type": "code",
   "execution_count": 11,
   "id": "9a2cd6f3",
   "metadata": {},
   "outputs": [
    {
     "data": {
      "text/plain": [
       "'Cientista de Dados'"
      ]
     },
     "execution_count": 11,
     "metadata": {},
     "output_type": "execute_result"
    }
   ],
   "source": [
    "# Exercício 10 - Considere a string abaixo. Imprima na tela apenas os caracteres da posição 1 a 18.\n",
    "frase = 'Cientista de Dados é o profissional mais sexy do século XXI'\n",
    "\n",
    "frase[0:18]"
   ]
  }
 ],
 "metadata": {
  "kernelspec": {
   "display_name": "Python 3",
   "language": "python",
   "name": "python3"
  },
  "language_info": {
   "codemirror_mode": {
    "name": "ipython",
    "version": 3
   },
   "file_extension": ".py",
   "mimetype": "text/x-python",
   "name": "python",
   "nbconvert_exporter": "python",
   "pygments_lexer": "ipython3",
   "version": "3.8.8"
  }
 },
 "nbformat": 4,
 "nbformat_minor": 5
}
