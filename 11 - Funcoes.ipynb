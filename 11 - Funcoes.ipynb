{
 "cells": [
  {
   "cell_type": "markdown",
   "source": [
    "# Funcoes "
   ],
   "metadata": {}
  },
  {
   "cell_type": "code",
   "execution_count": 1,
   "source": [
    "def primeiraFuncao():\n",
    "    print('Hello world')"
   ],
   "outputs": [],
   "metadata": {}
  },
  {
   "cell_type": "code",
   "execution_count": 2,
   "source": [
    "primeiraFuncao()"
   ],
   "outputs": [
    {
     "output_type": "stream",
     "name": "stdout",
     "text": [
      "Hello world\n"
     ]
    }
   ],
   "metadata": {}
  },
  {
   "cell_type": "code",
   "execution_count": 5,
   "source": [
    "def chamadaAluno(nome):\n",
    "    print(\"nome do aluno: %s\" %(nome))\n",
    "\n",
    "chamadaAluno('Lucas')"
   ],
   "outputs": [
    {
     "output_type": "stream",
     "name": "stdout",
     "text": [
      "nome do aluno: Lucas\n"
     ]
    }
   ],
   "metadata": {}
  },
  {
   "cell_type": "code",
   "execution_count": 6,
   "source": [
    "def leitura():\n",
    "    for i in range(0, 5):\n",
    "        print('Numero ' + str(i))\n",
    "\n",
    "leitura()"
   ],
   "outputs": [
    {
     "output_type": "stream",
     "name": "stdout",
     "text": [
      "Numero 0\n",
      "Numero 1\n",
      "Numero 2\n",
      "Numero 3\n",
      "Numero 4\n"
     ]
    }
   ],
   "metadata": {}
  },
  {
   "cell_type": "code",
   "execution_count": 2,
   "source": [
    "def addNumero(primeiro, segundo):\r\n",
    "    print('Primeiro:' + str(primeiro))\r\n",
    "    print('Segundo: ' + str(segundo))\r\n",
    "    print('Soma: ', primeiro + segundo)\r\n",
    "\r\n",
    "addNumero(40, 4)  # chamada da funcao"
   ],
   "outputs": [
    {
     "output_type": "stream",
     "name": "stdout",
     "text": [
      "Primeiro:40\n",
      "Segundo: 4\n",
      "Soma:  44\n"
     ]
    }
   ],
   "metadata": {}
  },
  {
   "cell_type": "code",
   "execution_count": 2,
   "source": [
    "# variaveis globais \r\n",
    " \r\n",
    "variavel = 10  # variavel global - definido fora da função \r\n",
    "\r\n",
    "def soma(num1, num2):\r\n",
    "    variavel = num1 + num2 # variavel local - definido dentro da função \r\n",
    "    print(variavel)\r\n"
   ],
   "outputs": [],
   "metadata": {}
  },
  {
   "cell_type": "code",
   "execution_count": 3,
   "source": [
    "soma(20,23)"
   ],
   "outputs": [
    {
     "output_type": "stream",
     "name": "stdout",
     "text": [
      "43\n"
     ]
    }
   ],
   "metadata": {}
  },
  {
   "cell_type": "code",
   "execution_count": 4,
   "source": [
    "print(variavel)"
   ],
   "outputs": [
    {
     "output_type": "stream",
     "name": "stdout",
     "text": [
      "10\n"
     ]
    }
   ],
   "metadata": {}
  }
 ],
 "metadata": {
  "interpreter": {
   "hash": "20c881e4e7fc08b94c9360dc1aa7abde0eabd089287124eee9dacc6c8d8f04ba"
  },
  "kernelspec": {
   "name": "python3",
   "display_name": "Python 3.8.8 64-bit ('base': conda)"
  },
  "language_info": {
   "codemirror_mode": {
    "name": "ipython",
    "version": 3
   },
   "file_extension": ".py",
   "mimetype": "text/x-python",
   "name": "python",
   "nbconvert_exporter": "python",
   "pygments_lexer": "ipython3",
   "version": "3.8.8"
  }
 },
 "nbformat": 4,
 "nbformat_minor": 2
}