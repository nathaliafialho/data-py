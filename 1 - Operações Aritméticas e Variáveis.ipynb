{
 "cells": [
  {
   "cell_type": "markdown",
   "id": "97e8ba3d",
   "metadata": {},
   "source": [
    "# Variaveis e Estruturas em Python\n"
   ]
  },
  {
   "cell_type": "code",
   "execution_count": 2,
   "id": "b9a2c563",
   "metadata": {},
   "outputs": [
    {
     "data": {
      "text/plain": [
       "30"
      ]
     },
     "execution_count": 2,
     "metadata": {},
     "output_type": "execute_result"
    }
   ],
   "source": [
    "# Soma \n",
    "10 + 20 \n"
   ]
  },
  {
   "cell_type": "code",
   "execution_count": 3,
   "id": "6689f170",
   "metadata": {},
   "outputs": [
    {
     "data": {
      "text/plain": [
       "200"
      ]
     },
     "execution_count": 3,
     "metadata": {},
     "output_type": "execute_result"
    }
   ],
   "source": [
    "# Multiplicação \n",
    "10*20"
   ]
  },
  {
   "cell_type": "code",
   "execution_count": 4,
   "id": "c2e91e22",
   "metadata": {},
   "outputs": [
    {
     "data": {
      "text/plain": [
       "2.0"
      ]
     },
     "execution_count": 4,
     "metadata": {},
     "output_type": "execute_result"
    }
   ],
   "source": [
    "# Divisão \n",
    "20/10"
   ]
  },
  {
   "cell_type": "code",
   "execution_count": 5,
   "id": "1258aaa7",
   "metadata": {},
   "outputs": [
    {
     "data": {
      "text/plain": [
       "20"
      ]
     },
     "execution_count": 5,
     "metadata": {},
     "output_type": "execute_result"
    }
   ],
   "source": [
    "# Subtração\n",
    "30 - 10"
   ]
  },
  {
   "cell_type": "code",
   "execution_count": 6,
   "id": "045c8218",
   "metadata": {},
   "outputs": [
    {
     "data": {
      "text/plain": [
       "16"
      ]
     },
     "execution_count": 6,
     "metadata": {},
     "output_type": "execute_result"
    }
   ],
   "source": [
    "# Potencia \n",
    "2 ** 4"
   ]
  },
  {
   "cell_type": "code",
   "execution_count": 7,
   "id": "81d749ea",
   "metadata": {},
   "outputs": [
    {
     "data": {
      "text/plain": [
       "1"
      ]
     },
     "execution_count": 7,
     "metadata": {},
     "output_type": "execute_result"
    }
   ],
   "source": [
    "# Módulo \n",
    "10 % 3 \n"
   ]
  },
  {
   "cell_type": "code",
   "execution_count": 8,
   "id": "c5422e63",
   "metadata": {},
   "outputs": [
    {
     "data": {
      "text/plain": [
       "int"
      ]
     },
     "execution_count": 8,
     "metadata": {},
     "output_type": "execute_result"
    }
   ],
   "source": [
    "type(5) # Tipo do dado "
   ]
  },
  {
   "cell_type": "code",
   "execution_count": 9,
   "id": "a45f30ac",
   "metadata": {},
   "outputs": [
    {
     "data": {
      "text/plain": [
       "float"
      ]
     },
     "execution_count": 9,
     "metadata": {},
     "output_type": "execute_result"
    }
   ],
   "source": [
    "type(10.3) "
   ]
  },
  {
   "cell_type": "code",
   "execution_count": 10,
   "id": "b23da17f",
   "metadata": {},
   "outputs": [
    {
     "data": {
      "text/plain": [
       "bool"
      ]
     },
     "execution_count": 10,
     "metadata": {},
     "output_type": "execute_result"
    }
   ],
   "source": [
    "type(True)"
   ]
  },
  {
   "cell_type": "code",
   "execution_count": 11,
   "id": "85e4b8dd",
   "metadata": {},
   "outputs": [
    {
     "data": {
      "text/plain": [
       "2.0"
      ]
     },
     "execution_count": 11,
     "metadata": {},
     "output_type": "execute_result"
    }
   ],
   "source": [
    "4/2 \n",
    "# numero float "
   ]
  },
  {
   "cell_type": "code",
   "execution_count": 12,
   "id": "ad280c5c",
   "metadata": {},
   "outputs": [
    {
     "data": {
      "text/plain": [
       "2"
      ]
     },
     "execution_count": 12,
     "metadata": {},
     "output_type": "execute_result"
    }
   ],
   "source": [
    "4//2 # numero int "
   ]
  },
  {
   "cell_type": "code",
   "execution_count": 13,
   "id": "3f7a26a4",
   "metadata": {},
   "outputs": [
    {
     "data": {
      "text/plain": [
       "1.3333333333333333"
      ]
     },
     "execution_count": 13,
     "metadata": {},
     "output_type": "execute_result"
    }
   ],
   "source": [
    "4/3.0"
   ]
  },
  {
   "cell_type": "code",
   "execution_count": 14,
   "id": "528c4a09",
   "metadata": {},
   "outputs": [
    {
     "data": {
      "text/plain": [
       "1.0"
      ]
     },
     "execution_count": 14,
     "metadata": {},
     "output_type": "execute_result"
    }
   ],
   "source": [
    "4//3.0"
   ]
  },
  {
   "cell_type": "code",
   "execution_count": 16,
   "id": "3f7d8aa3",
   "metadata": {},
   "outputs": [
    {
     "data": {
      "text/plain": [
       "9.0"
      ]
     },
     "execution_count": 16,
     "metadata": {},
     "output_type": "execute_result"
    }
   ],
   "source": [
    "float(9) #devolve o 9 como float "
   ]
  },
  {
   "cell_type": "code",
   "execution_count": 17,
   "id": "4f513164",
   "metadata": {},
   "outputs": [
    {
     "data": {
      "text/plain": [
       "3"
      ]
     },
     "execution_count": 17,
     "metadata": {},
     "output_type": "execute_result"
    }
   ],
   "source": [
    "int(3.0) # devolve o 3.0 como int "
   ]
  },
  {
   "cell_type": "code",
   "execution_count": 19,
   "id": "2718f446",
   "metadata": {},
   "outputs": [
    {
     "data": {
      "text/plain": [
       "5"
      ]
     },
     "execution_count": 19,
     "metadata": {},
     "output_type": "execute_result"
    }
   ],
   "source": [
    "int(5.8) # (coleta a parte inteira do numero float) "
   ]
  },
  {
   "cell_type": "markdown",
   "id": "33443b71",
   "metadata": {},
   "source": [
    "## Função abs, round e pow "
   ]
  },
  {
   "cell_type": "code",
   "execution_count": 20,
   "id": "cb6c283f",
   "metadata": {},
   "outputs": [
    {
     "data": {
      "text/plain": [
       "10"
      ]
     },
     "execution_count": 20,
     "metadata": {},
     "output_type": "execute_result"
    }
   ],
   "source": [
    "abs(-10) # retorna o valor absoluto "
   ]
  },
  {
   "cell_type": "code",
   "execution_count": 21,
   "id": "217d2769",
   "metadata": {},
   "outputs": [
    {
     "data": {
      "text/plain": [
       "8"
      ]
     },
     "execution_count": 21,
     "metadata": {},
     "output_type": "execute_result"
    }
   ],
   "source": [
    "round(8.1110000000) # arredondamento"
   ]
  },
  {
   "cell_type": "code",
   "execution_count": 23,
   "id": "f601d7f7",
   "metadata": {},
   "outputs": [
    {
     "data": {
      "text/plain": [
       "16"
      ]
     },
     "execution_count": 23,
     "metadata": {},
     "output_type": "execute_result"
    }
   ],
   "source": [
    "pow(4,2) #realiza o calc de potencia"
   ]
  },
  {
   "cell_type": "markdown",
   "id": "ac35d9ac",
   "metadata": {},
   "source": [
    "# Variáveis e Operadores \n"
   ]
  },
  {
   "cell_type": "code",
   "execution_count": 25,
   "id": "efee8182",
   "metadata": {},
   "outputs": [
    {
     "data": {
      "text/plain": [
       "21"
      ]
     },
     "execution_count": 25,
     "metadata": {},
     "output_type": "execute_result"
    }
   ],
   "source": [
    "b = 10 \n",
    "a = 11 \n",
    "\n",
    "b+a "
   ]
  },
  {
   "cell_type": "code",
   "execution_count": 26,
   "id": "ec29c2ad",
   "metadata": {},
   "outputs": [
    {
     "data": {
      "text/plain": [
       "2.0"
      ]
     },
     "execution_count": 26,
     "metadata": {},
     "output_type": "execute_result"
    }
   ],
   "source": [
    "divide1 = 10 \n",
    "divide2 = 5\n",
    "\n",
    "divide1 / divide2"
   ]
  },
  {
   "cell_type": "code",
   "execution_count": 27,
   "id": "361a0a6c",
   "metadata": {},
   "outputs": [
    {
     "name": "stdout",
     "output_type": "stream",
     "text": [
      "10\n"
     ]
    }
   ],
   "source": [
    "print(10)"
   ]
  },
  {
   "cell_type": "code",
   "execution_count": 46,
   "id": "2df8d96c",
   "metadata": {},
   "outputs": [
    {
     "name": "stdout",
     "output_type": "stream",
     "text": [
      "nathalia\n"
     ]
    }
   ],
   "source": [
    "var = \"nathalia\"\n",
    "\n",
    "print(var)"
   ]
  },
  {
   "cell_type": "code",
   "execution_count": 59,
   "id": "be6ad09c",
   "metadata": {},
   "outputs": [],
   "source": [
    "nome = \"nathalia\"\n",
    "sobrenome = \"fialho\"\n"
   ]
  },
  {
   "cell_type": "code",
   "execution_count": 60,
   "id": "83b03737",
   "metadata": {},
   "outputs": [],
   "source": [
    "nomeCompleto = nome + \" \" + sobrenome\n"
   ]
  },
  {
   "cell_type": "code",
   "execution_count": 61,
   "id": "2d916ac0",
   "metadata": {},
   "outputs": [
    {
     "data": {
      "text/plain": [
       "'nathalia fialho'"
      ]
     },
     "execution_count": 61,
     "metadata": {},
     "output_type": "execute_result"
    }
   ],
   "source": [
    "nomeCompleto "
   ]
  },
  {
   "cell_type": "markdown",
   "id": "65740eba",
   "metadata": {},
   "source": [
    "## Operadores "
   ]
  },
  {
   "cell_type": "code",
   "execution_count": 28,
   "id": "1711e78b",
   "metadata": {},
   "outputs": [
    {
     "data": {
      "text/plain": [
       "False"
      ]
     },
     "execution_count": 28,
     "metadata": {},
     "output_type": "execute_result"
    }
   ],
   "source": [
    "num1 = 10 \n",
    "num2 = 20 \n",
    "\n",
    "num1 == num2  # igualdade "
   ]
  },
  {
   "cell_type": "code",
   "execution_count": 34,
   "id": "7c3989ba",
   "metadata": {},
   "outputs": [
    {
     "data": {
      "text/plain": [
       "True"
      ]
     },
     "execution_count": 34,
     "metadata": {},
     "output_type": "execute_result"
    }
   ],
   "source": [
    "num1 = 10 \n",
    "num2 = 20 \n",
    "\n",
    "num1 <= num2 #menor que ou igual a "
   ]
  },
  {
   "cell_type": "code",
   "execution_count": 30,
   "id": "cad11758",
   "metadata": {},
   "outputs": [
    {
     "data": {
      "text/plain": [
       "True"
      ]
     },
     "execution_count": 30,
     "metadata": {},
     "output_type": "execute_result"
    }
   ],
   "source": [
    "num1 = 10 \n",
    "num2 = 20 \n",
    "\n",
    "num1 < num2 # menor que"
   ]
  },
  {
   "cell_type": "code",
   "execution_count": 31,
   "id": "ff748586",
   "metadata": {},
   "outputs": [
    {
     "data": {
      "text/plain": [
       "True"
      ]
     },
     "execution_count": 31,
     "metadata": {},
     "output_type": "execute_result"
    }
   ],
   "source": [
    "num1 = 20 \n",
    "num2 = 20\n",
    "\n",
    "num1 >= num2  # maior que ou igual a"
   ]
  },
  {
   "cell_type": "code",
   "execution_count": 32,
   "id": "57c200b5",
   "metadata": {},
   "outputs": [
    {
     "data": {
      "text/plain": [
       "True"
      ]
     },
     "execution_count": 32,
     "metadata": {},
     "output_type": "execute_result"
    }
   ],
   "source": [
    "num1 = 10 \n",
    "num2 = 20 \n",
    "\n",
    "num1 != num2 # desigualdade / inequivalencia "
   ]
  },
  {
   "cell_type": "markdown",
   "id": "5e86cdc9",
   "metadata": {},
   "source": [
    "## Atribuição "
   ]
  },
  {
   "cell_type": "code",
   "execution_count": 35,
   "id": "8b4b5818",
   "metadata": {},
   "outputs": [
    {
     "data": {
      "text/plain": [
       "30"
      ]
     },
     "execution_count": 35,
     "metadata": {},
     "output_type": "execute_result"
    }
   ],
   "source": [
    "z = 10 \n",
    "x = 20 \n",
    "\n",
    "z+x #atribuicao "
   ]
  },
  {
   "cell_type": "code",
   "execution_count": 39,
   "id": "1344fce1",
   "metadata": {},
   "outputs": [
    {
     "name": "stdout",
     "output_type": "stream",
     "text": [
      "20\n"
     ]
    }
   ],
   "source": [
    "z = 10 \n",
    "x = 20 \n",
    "\n",
    "z += 10  # soma \n",
    "print(z)"
   ]
  },
  {
   "cell_type": "code",
   "execution_count": 40,
   "id": "72568f6a",
   "metadata": {},
   "outputs": [
    {
     "name": "stdout",
     "output_type": "stream",
     "text": [
      "0\n"
     ]
    }
   ],
   "source": [
    "z = 10 \n",
    "x = 20 \n",
    "\n",
    "z -= 10  # subtracao \n",
    "print(z)"
   ]
  },
  {
   "cell_type": "code",
   "execution_count": 41,
   "id": "a263b1cf",
   "metadata": {},
   "outputs": [
    {
     "name": "stdout",
     "output_type": "stream",
     "text": [
      "100\n"
     ]
    }
   ],
   "source": [
    "z = 10 \n",
    "x = 20 \n",
    "\n",
    "z *= 10  # multiplicacao\n",
    "print(z)"
   ]
  },
  {
   "cell_type": "code",
   "execution_count": 42,
   "id": "96e971d4",
   "metadata": {},
   "outputs": [
    {
     "name": "stdout",
     "output_type": "stream",
     "text": [
      "1.0\n"
     ]
    }
   ],
   "source": [
    "z = 10 \n",
    "x = 20 \n",
    "\n",
    "z /= 10  # divisão \n",
    "print(z)"
   ]
  },
  {
   "cell_type": "code",
   "execution_count": 43,
   "id": "36d92ae0",
   "metadata": {},
   "outputs": [
    {
     "name": "stdout",
     "output_type": "stream",
     "text": [
      "0\n"
     ]
    }
   ],
   "source": [
    "z = 10 \n",
    "x = 20 \n",
    "\n",
    "z %= 10  # Modulo \n",
    "print(z)"
   ]
  },
  {
   "cell_type": "code",
   "execution_count": 44,
   "id": "74c6ea3d",
   "metadata": {},
   "outputs": [
    {
     "name": "stdout",
     "output_type": "stream",
     "text": [
      "10000000000\n"
     ]
    }
   ],
   "source": [
    "z = 10 \n",
    "x = 20 \n",
    "\n",
    "z **= 10  # potencia\n",
    "print(z)"
   ]
  },
  {
   "cell_type": "code",
   "execution_count": 45,
   "id": "9da88021",
   "metadata": {},
   "outputs": [
    {
     "name": "stdout",
     "output_type": "stream",
     "text": [
      "1\n"
     ]
    }
   ],
   "source": [
    "z = 10 \n",
    "x = 20 \n",
    "\n",
    "z //= 10  # divisao inteira\n",
    "print(z)"
   ]
  },
  {
   "cell_type": "code",
   "execution_count": 55,
   "id": "7fb0e07d",
   "metadata": {},
   "outputs": [
    {
     "data": {
      "text/plain": [
       "'lucas'"
      ]
     },
     "execution_count": 55,
     "metadata": {},
     "output_type": "execute_result"
    }
   ],
   "source": [
    "p1, p2, p3 = \"maria\", \"jose\", \"lucas\"\n",
    "\n",
    "#p1 \n",
    "#p2\n",
    "p3 "
   ]
  }
 ],
 "metadata": {
  "kernelspec": {
   "display_name": "Python 3",
   "language": "python",
   "name": "python3"
  },
  "language_info": {
   "codemirror_mode": {
    "name": "ipython",
    "version": 3
   },
   "file_extension": ".py",
   "mimetype": "text/x-python",
   "name": "python",
   "nbconvert_exporter": "python",
   "pygments_lexer": "ipython3",
   "version": "3.8.8"
  }
 },
 "nbformat": 4,
 "nbformat_minor": 5
}
