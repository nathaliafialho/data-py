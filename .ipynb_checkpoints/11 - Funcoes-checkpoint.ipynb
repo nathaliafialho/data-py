{
 "cells": [
  {
   "cell_type": "markdown",
   "metadata": {},
   "source": [
    "# Funcoes "
   ]
  },
  {
   "cell_type": "code",
   "execution_count": 1,
   "metadata": {},
   "outputs": [],
   "source": [
    "def primeiraFuncao():\n",
    "    print('Hello world')"
   ]
  },
  {
   "cell_type": "code",
   "execution_count": 2,
   "metadata": {},
   "outputs": [
    {
     "name": "stdout",
     "output_type": "stream",
     "text": [
      "Hello world\n"
     ]
    }
   ],
   "source": [
    "primeiraFuncao()"
   ]
  },
  {
   "cell_type": "code",
   "execution_count": 5,
   "metadata": {},
   "outputs": [
    {
     "name": "stdout",
     "output_type": "stream",
     "text": [
      "nome do aluno: Lucas\n"
     ]
    }
   ],
   "source": [
    "def chamadaAluno(nome):\n",
    "    print(\"nome do aluno: %s\" %(nome))\n",
    "\n",
    "chamadaAluno('Lucas')"
   ]
  },
  {
   "cell_type": "code",
   "execution_count": 6,
   "metadata": {},
   "outputs": [
    {
     "name": "stdout",
     "output_type": "stream",
     "text": [
      "Numero 0\n",
      "Numero 1\n",
      "Numero 2\n",
      "Numero 3\n",
      "Numero 4\n"
     ]
    }
   ],
   "source": [
    "def leitura():\n",
    "    for i in range(0, 5):\n",
    "        print('Numero ' + str(i))\n",
    "\n",
    "leitura()"
   ]
  },
  {
   "cell_type": "code",
   "execution_count": 2,
   "metadata": {},
   "outputs": [
    {
     "name": "stdout",
     "output_type": "stream",
     "text": [
      "Primeiro:40\n",
      "Segundo: 4\n",
      "Soma:  44\n"
     ]
    }
   ],
   "source": [
    "def addNumero(primeiro, segundo):\n",
    "    print('Primeiro:' + str(primeiro))\n",
    "    print('Segundo: ' + str(segundo))\n",
    "    print('Soma: ', primeiro + segundo)\n",
    "\n",
    "addNumero(40, 4)  # chamada da funcao"
   ]
  },
  {
   "cell_type": "code",
   "execution_count": 13,
   "metadata": {},
   "outputs": [],
   "source": [
    "# variaveis globais \n",
    " \n",
    "variavel = 10 \n",
    "\n",
    "def soma(num1, num2):\n",
    "    variavel = num1 + num2 # variavel local \n",
    "    print(variavel1)\n"
   ]
  },
  {
   "cell_type": "code",
   "execution_count": 11,
   "metadata": {},
   "outputs": [
    {
     "name": "stdout",
     "output_type": "stream",
     "text": [
      "43\n"
     ]
    }
   ],
   "source": [
    "soma(20,23)"
   ]
  },
  {
   "cell_type": "code",
   "execution_count": 17,
   "metadata": {},
   "outputs": [
    {
     "name": "stdout",
     "output_type": "stream",
     "text": [
      "10\n"
     ]
    }
   ],
   "source": [
    "print(variavel)"
   ]
  }
 ],
 "metadata": {
  "interpreter": {
   "hash": "20c881e4e7fc08b94c9360dc1aa7abde0eabd089287124eee9dacc6c8d8f04ba"
  },
  "kernelspec": {
   "display_name": "Python 3",
   "language": "python",
   "name": "python3"
  },
  "language_info": {
   "codemirror_mode": {
    "name": "ipython",
    "version": 3
   },
   "file_extension": ".py",
   "mimetype": "text/x-python",
   "name": "python",
   "nbconvert_exporter": "python",
   "pygments_lexer": "ipython3",
   "version": "3.8.8"
  }
 },
 "nbformat": 4,
 "nbformat_minor": 2
}
