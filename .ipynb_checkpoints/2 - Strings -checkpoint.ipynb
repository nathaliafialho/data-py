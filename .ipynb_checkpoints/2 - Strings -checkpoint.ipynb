{
 "cells": [
  {
   "cell_type": "markdown",
   "id": "ca1dc827",
   "metadata": {},
   "source": [
    "# Strings \n",
    "\n",
    "- Sequencia de caracteres "
   ]
  },
  {
   "cell_type": "code",
   "execution_count": 3,
   "id": "bdce877e",
   "metadata": {},
   "outputs": [],
   "source": [
    "texto = \"Exemplo em Python\""
   ]
  },
  {
   "cell_type": "code",
   "execution_count": 4,
   "id": "af6b44f9",
   "metadata": {},
   "outputs": [
    {
     "data": {
      "text/plain": [
       "'E'"
      ]
     },
     "execution_count": 4,
     "metadata": {},
     "output_type": "execute_result"
    }
   ],
   "source": [
    "texto[0]"
   ]
  },
  {
   "cell_type": "code",
   "execution_count": 6,
   "id": "1ef9f6ff",
   "metadata": {},
   "outputs": [
    {
     "data": {
      "text/plain": [
       "'P'"
      ]
     },
     "execution_count": 6,
     "metadata": {},
     "output_type": "execute_result"
    }
   ],
   "source": [
    "texto[11]"
   ]
  },
  {
   "cell_type": "code",
   "execution_count": 9,
   "id": "0b2d6437",
   "metadata": {},
   "outputs": [
    {
     "data": {
      "text/plain": [
       "'direta'"
      ]
     },
     "execution_count": 9,
     "metadata": {},
     "output_type": "execute_result"
    }
   ],
   "source": [
    "'direta' #Imprime direto "
   ]
  },
  {
   "cell_type": "code",
   "execution_count": 10,
   "id": "5ae1ade3",
   "metadata": {},
   "outputs": [
    {
     "name": "stdout",
     "output_type": "stream",
     "text": [
      "frase inteira\n"
     ]
    }
   ],
   "source": [
    "print('frase inteira')"
   ]
  },
  {
   "cell_type": "code",
   "execution_count": 11,
   "id": "1d0542c4",
   "metadata": {},
   "outputs": [
    {
     "name": "stdout",
     "output_type": "stream",
     "text": [
      "Testando\n",
      "espaçamento\n",
      "em\n",
      "python\n"
     ]
    }
   ],
   "source": [
    "print('Testando\\nespaçamento\\nem\\npython')"
   ]
  },
  {
   "cell_type": "code",
   "execution_count": 13,
   "id": "dc7ec248",
   "metadata": {},
   "outputs": [
    {
     "name": "stdout",
     "output_type": "stream",
     "text": [
      "Testando\tespaçamento\tem\tPython\n"
     ]
    }
   ],
   "source": [
    "print('Testando\\tespaçamento\\tem\\tPython')"
   ]
  },
  {
   "cell_type": "code",
   "execution_count": 14,
   "id": "e04a7e23",
   "metadata": {},
   "outputs": [
    {
     "data": {
      "text/plain": [
       "'Exemplo'"
      ]
     },
     "execution_count": 14,
     "metadata": {},
     "output_type": "execute_result"
    }
   ],
   "source": [
    "name = 'Exemplo'\n",
    "name"
   ]
  },
  {
   "cell_type": "code",
   "execution_count": 15,
   "id": "88d89e86",
   "metadata": {},
   "outputs": [
    {
     "data": {
      "text/plain": [
       "'Exe'"
      ]
     },
     "execution_count": 15,
     "metadata": {},
     "output_type": "execute_result"
    }
   ],
   "source": [
    "name[:3] #Exibe até a posicao 2 e exclui a posicao 3 da string "
   ]
  },
  {
   "cell_type": "code",
   "execution_count": 16,
   "id": "533e3389",
   "metadata": {},
   "outputs": [
    {
     "data": {
      "text/plain": [
       "'mplo'"
      ]
     },
     "execution_count": 16,
     "metadata": {},
     "output_type": "execute_result"
    }
   ],
   "source": [
    "name[3:] #Exibe a posicao 3 p frente "
   ]
  },
  {
   "cell_type": "code",
   "execution_count": 20,
   "id": "98203652",
   "metadata": {},
   "outputs": [
    {
     "data": {
      "text/plain": [
       "'Exem'"
      ]
     },
     "execution_count": 20,
     "metadata": {},
     "output_type": "execute_result"
    }
   ],
   "source": [
    "name[:-3] # Exclui os 3 ultimos da string"
   ]
  },
  {
   "cell_type": "code",
   "execution_count": 18,
   "id": "7d83a9ee",
   "metadata": {},
   "outputs": [
    {
     "data": {
      "text/plain": [
       "'olpmexE'"
      ]
     },
     "execution_count": 18,
     "metadata": {},
     "output_type": "execute_result"
    }
   ],
   "source": [
    "name[::-1] # Exibe de Tras p frente "
   ]
  },
  {
   "cell_type": "code",
   "execution_count": 21,
   "id": "87dc9172",
   "metadata": {},
   "outputs": [
    {
     "data": {
      "text/plain": [
       "'Eepo'"
      ]
     },
     "execution_count": 21,
     "metadata": {},
     "output_type": "execute_result"
    }
   ],
   "source": [
    "name[::2] #"
   ]
  },
  {
   "cell_type": "code",
   "execution_count": 22,
   "id": "961ad4b1",
   "metadata": {},
   "outputs": [
    {
     "data": {
      "text/plain": [
       "'l'"
      ]
     },
     "execution_count": 22,
     "metadata": {},
     "output_type": "execute_result"
    }
   ],
   "source": [
    "name[-2] # Penultima letra "
   ]
  },
  {
   "cell_type": "code",
   "execution_count": 24,
   "id": "453b7be1",
   "metadata": {},
   "outputs": [
    {
     "data": {
      "text/plain": [
       "'Eepo'"
      ]
     },
     "execution_count": 24,
     "metadata": {},
     "output_type": "execute_result"
    }
   ],
   "source": [
    "name[::2] #retorna os caracteres em 2 posicoes"
   ]
  },
  {
   "cell_type": "code",
   "execution_count": 26,
   "id": "f399a110",
   "metadata": {},
   "outputs": [
    {
     "data": {
      "text/plain": [
       "'Exemplo'"
      ]
     },
     "execution_count": 26,
     "metadata": {},
     "output_type": "execute_result"
    }
   ],
   "source": [
    "name[::1] #retorna os caracteres em 1 posicoes"
   ]
  },
  {
   "cell_type": "code",
   "execution_count": 29,
   "id": "2f43472d",
   "metadata": {},
   "outputs": [],
   "source": [
    "continuacao = 'String'"
   ]
  },
  {
   "cell_type": "code",
   "execution_count": 32,
   "id": "e50f1f09",
   "metadata": {},
   "outputs": [
    {
     "data": {
      "text/plain": [
       "'Exemplo de String'"
      ]
     },
     "execution_count": 32,
     "metadata": {},
     "output_type": "execute_result"
    }
   ],
   "source": [
    "name + ' '+ 'de'+ ' ' + continuacao"
   ]
  },
  {
   "cell_type": "code",
   "execution_count": 33,
   "id": "72a12417",
   "metadata": {},
   "outputs": [
    {
     "data": {
      "text/plain": [
       "'eeee'"
      ]
     },
     "execution_count": 33,
     "metadata": {},
     "output_type": "execute_result"
    }
   ],
   "source": [
    "# multiplicacao de string \n",
    "letra = 'e'\n",
    "letra*4"
   ]
  },
  {
   "cell_type": "code",
   "execution_count": null,
   "id": "547568d3",
   "metadata": {},
   "outputs": [],
   "source": []
  },
  {
   "cell_type": "code",
   "execution_count": 35,
   "id": "3f0689ba",
   "metadata": {},
   "outputs": [],
   "source": [
    "frase = 'Funcoes em python'"
   ]
  },
  {
   "cell_type": "code",
   "execution_count": 36,
   "id": "9d323969",
   "metadata": {},
   "outputs": [
    {
     "data": {
      "text/plain": [
       "'FUNCOES EM PYTHON'"
      ]
     },
     "execution_count": 36,
     "metadata": {},
     "output_type": "execute_result"
    }
   ],
   "source": [
    "frase.upper() #tudo em maiusculo "
   ]
  },
  {
   "cell_type": "code",
   "execution_count": 37,
   "id": "4b42ecf1",
   "metadata": {},
   "outputs": [
    {
     "data": {
      "text/plain": [
       "'fUNCOES EM PYTHON'"
      ]
     },
     "execution_count": 37,
     "metadata": {},
     "output_type": "execute_result"
    }
   ],
   "source": [
    "frase.swapcase() # só a primeira letra em minusculo"
   ]
  },
  {
   "cell_type": "code",
   "execution_count": 39,
   "id": "de0d6f5a",
   "metadata": {},
   "outputs": [
    {
     "data": {
      "text/plain": [
       "'funcoes em python'"
      ]
     },
     "execution_count": 39,
     "metadata": {},
     "output_type": "execute_result"
    }
   ],
   "source": [
    "frase.lower() #tudo em minusculo"
   ]
  },
  {
   "cell_type": "code",
   "execution_count": 40,
   "id": "0d37e15d",
   "metadata": {},
   "outputs": [
    {
     "data": {
      "text/plain": [
       "['Funcoes', 'em', 'python']"
      ]
     },
     "execution_count": 40,
     "metadata": {},
     "output_type": "execute_result"
    }
   ],
   "source": [
    "frase.split() #divide a string"
   ]
  },
  {
   "cell_type": "code",
   "execution_count": 41,
   "id": "adbd70dc",
   "metadata": {},
   "outputs": [
    {
     "data": {
      "text/plain": [
       "'Funcoes em python'"
      ]
     },
     "execution_count": 41,
     "metadata": {},
     "output_type": "execute_result"
    }
   ],
   "source": [
    "frase.capitalize() #primeira em maiusculo "
   ]
  },
  {
   "cell_type": "code",
   "execution_count": 43,
   "id": "83147f03",
   "metadata": {},
   "outputs": [
    {
     "data": {
      "text/plain": [
       "2"
      ]
     },
     "execution_count": 43,
     "metadata": {},
     "output_type": "execute_result"
    }
   ],
   "source": [
    "frase.count(\"o\") #conta qnts letras 'o' tem na string "
   ]
  }
 ],
 "metadata": {
  "kernelspec": {
   "display_name": "Python 3",
   "language": "python",
   "name": "python3"
  },
  "language_info": {
   "codemirror_mode": {
    "name": "ipython",
    "version": 3
   },
   "file_extension": ".py",
   "mimetype": "text/x-python",
   "name": "python",
   "nbconvert_exporter": "python",
   "pygments_lexer": "ipython3",
   "version": "3.8.8"
  }
 },
 "nbformat": 4,
 "nbformat_minor": 5
}
