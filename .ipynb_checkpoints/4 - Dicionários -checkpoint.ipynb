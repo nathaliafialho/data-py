{
 "cells": [
  {
   "cell_type": "markdown",
   "id": "6a962c43",
   "metadata": {},
   "source": [
    "# Dicionários \n",
    "\n",
    "- Podemos imaginar o dicionário como tabela hash \n",
    "- Mapeamento: coleção de objetos que são armazenados por uma chave.\n",
    "\n",
    "Dicionário: mapeamento de chaves e objetos! \n",
    "\n"
   ]
  },
  {
   "cell_type": "code",
   "execution_count": 5,
   "id": "83244c92",
   "metadata": {},
   "outputs": [
    {
     "data": {
      "text/plain": [
       "{'matheus': 23, 'nathalia': 25, 'amanda': 45}"
      ]
     },
     "execution_count": 5,
     "metadata": {},
     "output_type": "execute_result"
    }
   ],
   "source": [
    "estudantes = {\"matheus\": 23, \"nathalia\": 25, \"amanda\": 45}\n",
    "estudantes "
   ]
  },
  {
   "cell_type": "code",
   "execution_count": 2,
   "id": "fe443e5b",
   "metadata": {},
   "outputs": [
    {
     "data": {
      "text/plain": [
       "23"
      ]
     },
     "execution_count": 2,
     "metadata": {},
     "output_type": "execute_result"
    }
   ],
   "source": [
    "estudantes[\"matheus\"]"
   ]
  },
  {
   "cell_type": "code",
   "execution_count": 3,
   "id": "21a0ec90",
   "metadata": {},
   "outputs": [],
   "source": [
    "estudantes.clear()\n"
   ]
  },
  {
   "cell_type": "code",
   "execution_count": 7,
   "id": "8e880aa8",
   "metadata": {},
   "outputs": [
    {
     "data": {
      "text/plain": [
       "{'matheus': 27, 'roberto': 55, 'ana': 5}"
      ]
     },
     "execution_count": 7,
     "metadata": {},
     "output_type": "execute_result"
    }
   ],
   "source": [
    "estudantes2 = {\"matheus\": 27, \"roberto\": 55, \"ana\": 5}\n",
    "estudantes2 "
   ]
  },
  {
   "cell_type": "code",
   "execution_count": 8,
   "id": "c5b7be94",
   "metadata": {},
   "outputs": [],
   "source": [
    "del estudantes2  # deleta a constante toda 'estudantes2'"
   ]
  },
  {
   "cell_type": "code",
   "execution_count": 10,
   "id": "3dbbec3a",
   "metadata": {},
   "outputs": [
    {
     "data": {
      "text/plain": [
       "{'olivia': 1, 'felipe': 2, 'lucas': 3}"
      ]
     },
     "execution_count": 10,
     "metadata": {},
     "output_type": "execute_result"
    }
   ],
   "source": [
    "est = {\"olivia\": 1,\"felipe\": 2, \"lucas\": 3}\n",
    "est "
   ]
  },
  {
   "cell_type": "code",
   "execution_count": 15,
   "id": "d0adac78",
   "metadata": {},
   "outputs": [],
   "source": [
    "est[\"pedro\"]= 5 # adicionar pedro com valor 5 no disc"
   ]
  },
  {
   "cell_type": "code",
   "execution_count": 16,
   "id": "0d9a2272",
   "metadata": {},
   "outputs": [
    {
     "data": {
      "text/plain": [
       "5"
      ]
     },
     "execution_count": 16,
     "metadata": {},
     "output_type": "execute_result"
    }
   ],
   "source": [
    "est[\"pedro\"]"
   ]
  },
  {
   "cell_type": "code",
   "execution_count": 17,
   "id": "9daaff9e",
   "metadata": {},
   "outputs": [
    {
     "data": {
      "text/plain": [
       "{'olivia': 1, 'felipe': 2, 'lucas': 3, 'pedro': 5}"
      ]
     },
     "execution_count": 17,
     "metadata": {},
     "output_type": "execute_result"
    }
   ],
   "source": [
    "est"
   ]
  },
  {
   "cell_type": "code",
   "execution_count": 18,
   "id": "edea3c46",
   "metadata": {},
   "outputs": [
    {
     "data": {
      "text/plain": [
       "4"
      ]
     },
     "execution_count": 18,
     "metadata": {},
     "output_type": "execute_result"
    }
   ],
   "source": [
    "len(est) # tamanho do disc "
   ]
  },
  {
   "cell_type": "code",
   "execution_count": 19,
   "id": "057683f8",
   "metadata": {},
   "outputs": [
    {
     "data": {
      "text/plain": [
       "dict_keys(['olivia', 'felipe', 'lucas', 'pedro'])"
      ]
     },
     "execution_count": 19,
     "metadata": {},
     "output_type": "execute_result"
    }
   ],
   "source": [
    "est.keys()"
   ]
  },
  {
   "cell_type": "code",
   "execution_count": 20,
   "id": "abf77396",
   "metadata": {},
   "outputs": [
    {
     "data": {
      "text/plain": [
       "dict_values([1, 2, 3, 5])"
      ]
     },
     "execution_count": 20,
     "metadata": {},
     "output_type": "execute_result"
    }
   ],
   "source": [
    "est.values()"
   ]
  },
  {
   "cell_type": "code",
   "execution_count": 21,
   "id": "b2ef9d7d",
   "metadata": {},
   "outputs": [
    {
     "data": {
      "text/plain": [
       "dict_items([('olivia', 1), ('felipe', 2), ('lucas', 3), ('pedro', 5)])"
      ]
     },
     "execution_count": 21,
     "metadata": {},
     "output_type": "execute_result"
    }
   ],
   "source": [
    "est.items()"
   ]
  },
  {
   "cell_type": "code",
   "execution_count": 23,
   "id": "123dbc6d",
   "metadata": {},
   "outputs": [],
   "source": [
    "est2 = {'vitoria': 10, 'ronaldo': 6}"
   ]
  },
  {
   "cell_type": "code",
   "execution_count": 24,
   "id": "addac26c",
   "metadata": {},
   "outputs": [],
   "source": [
    "est.update(est2) # adicionar 'est2' no final da 'est'\n"
   ]
  },
  {
   "cell_type": "code",
   "execution_count": 25,
   "id": "9e0328fe",
   "metadata": {},
   "outputs": [
    {
     "data": {
      "text/plain": [
       "{'olivia': 1, 'felipe': 2, 'lucas': 3, 'pedro': 5, 'vitoria': 10, 'ronaldo': 6}"
      ]
     },
     "execution_count": 25,
     "metadata": {},
     "output_type": "execute_result"
    }
   ],
   "source": [
    "est"
   ]
  },
  {
   "cell_type": "code",
   "execution_count": null,
   "id": "a846524f",
   "metadata": {},
   "outputs": [],
   "source": []
  }
 ],
 "metadata": {
  "kernelspec": {
   "display_name": "Python 3",
   "language": "python",
   "name": "python3"
  },
  "language_info": {
   "codemirror_mode": {
    "name": "ipython",
    "version": 3
   },
   "file_extension": ".py",
   "mimetype": "text/x-python",
   "name": "python",
   "nbconvert_exporter": "python",
   "pygments_lexer": "ipython3",
   "version": "3.8.8"
  }
 },
 "nbformat": 4,
 "nbformat_minor": 5
}
