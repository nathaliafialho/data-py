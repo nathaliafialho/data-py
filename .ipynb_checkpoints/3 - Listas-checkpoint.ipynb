{
 "cells": [
  {
   "cell_type": "markdown",
   "id": "5854dfca",
   "metadata": {},
   "source": [
    "# Listas \n",
    "\n",
    "- Mutáveis\n",
    "- Suportam aninhamento \n"
   ]
  },
  {
   "cell_type": "code",
   "execution_count": 2,
   "id": "85c681f7",
   "metadata": {},
   "outputs": [
    {
     "data": {
      "text/plain": [
       "['ovo', 'farinha', 'leite']"
      ]
     },
     "execution_count": 2,
     "metadata": {},
     "output_type": "execute_result"
    }
   ],
   "source": [
    "lista_mercado = [\"ovo\", \"farinha\", \"leite\"]\n",
    "lista_mercado"
   ]
  },
  {
   "cell_type": "code",
   "execution_count": 3,
   "id": "e27f7524",
   "metadata": {},
   "outputs": [
    {
     "data": {
      "text/plain": [
       "'farinha'"
      ]
     },
     "execution_count": 3,
     "metadata": {},
     "output_type": "execute_result"
    }
   ],
   "source": [
    "lista_mercado[1]"
   ]
  },
  {
   "cell_type": "code",
   "execution_count": 4,
   "id": "585f519c",
   "metadata": {},
   "outputs": [
    {
     "data": {
      "text/plain": [
       "'ovo'"
      ]
     },
     "execution_count": 4,
     "metadata": {},
     "output_type": "execute_result"
    }
   ],
   "source": [
    "lista_mercado[0]"
   ]
  },
  {
   "cell_type": "code",
   "execution_count": 5,
   "id": "980b83ac",
   "metadata": {},
   "outputs": [
    {
     "data": {
      "text/plain": [
       "[12, 10, 3, 'Exemplo']"
      ]
     },
     "execution_count": 5,
     "metadata": {},
     "output_type": "execute_result"
    }
   ],
   "source": [
    "lista_ex = [12, 10, 3, \"Exemplo\"]\n",
    "lista_ex"
   ]
  },
  {
   "cell_type": "code",
   "execution_count": 7,
   "id": "7ed4710d",
   "metadata": {},
   "outputs": [],
   "source": [
    "item_lista1 = lista_ex[0]\n",
    "item_lista2 = lista_ex[2]\n",
    "item_lista3 = lista_ex[3]"
   ]
  },
  {
   "cell_type": "code",
   "execution_count": 8,
   "id": "fa504109",
   "metadata": {},
   "outputs": [
    {
     "name": "stdout",
     "output_type": "stream",
     "text": [
      "12 3 Exemplo\n"
     ]
    }
   ],
   "source": [
    "print(item_lista1, item_lista2, item_lista3)"
   ]
  },
  {
   "cell_type": "code",
   "execution_count": 9,
   "id": "0a32803d",
   "metadata": {},
   "outputs": [],
   "source": [
    "lista_mercado[0] = 'açucar'"
   ]
  },
  {
   "cell_type": "code",
   "execution_count": 10,
   "id": "244ba6c5",
   "metadata": {},
   "outputs": [
    {
     "name": "stdout",
     "output_type": "stream",
     "text": [
      "['açucar', 'farinha', 'leite']\n"
     ]
    }
   ],
   "source": [
    "print(lista_mercado)"
   ]
  },
  {
   "cell_type": "markdown",
   "id": "2db09488",
   "metadata": {},
   "source": [
    "# Listas aninhadas "
   ]
  },
  {
   "cell_type": "code",
   "execution_count": 11,
   "id": "75984e72",
   "metadata": {},
   "outputs": [],
   "source": [
    "lista = [[1,2,3],['nathalia', 'exemplo', 'lista'],[2,3,4]]"
   ]
  },
  {
   "cell_type": "code",
   "execution_count": 12,
   "id": "fc30af6a",
   "metadata": {},
   "outputs": [
    {
     "name": "stdout",
     "output_type": "stream",
     "text": [
      "[[1, 2, 3], ['nathalia', 'exemplo', 'lista'], [2, 3, 4]]\n"
     ]
    }
   ],
   "source": [
    "print(lista)"
   ]
  },
  {
   "cell_type": "code",
   "execution_count": 13,
   "id": "ff0889ff",
   "metadata": {},
   "outputs": [
    {
     "data": {
      "text/plain": [
       "[[1, 2, 3], ['nathalia', 'exemplo', 'lista'], [2, 3, 4]]"
      ]
     },
     "execution_count": 13,
     "metadata": {},
     "output_type": "execute_result"
    }
   ],
   "source": [
    "lista"
   ]
  },
  {
   "cell_type": "code",
   "execution_count": 16,
   "id": "8d82c66b",
   "metadata": {},
   "outputs": [
    {
     "data": {
      "text/plain": [
       "['nathalia', 'exemplo', 'lista']"
      ]
     },
     "execution_count": 16,
     "metadata": {},
     "output_type": "execute_result"
    }
   ],
   "source": [
    "b = lista[1]\n",
    "b"
   ]
  },
  {
   "cell_type": "code",
   "execution_count": 19,
   "id": "31e3db67",
   "metadata": {},
   "outputs": [
    {
     "data": {
      "text/plain": [
       "[2, 3, 4]"
      ]
     },
     "execution_count": 19,
     "metadata": {},
     "output_type": "execute_result"
    }
   ],
   "source": [
    "c = lista[2]\n",
    "c"
   ]
  },
  {
   "cell_type": "code",
   "execution_count": 4,
   "id": "2d0d8fd4",
   "metadata": {},
   "outputs": [
    {
     "data": {
      "text/plain": [
       "[1, 2, 3, 4, 5, 6, 'nathalia', 'exemplo', 'python']"
      ]
     },
     "execution_count": 4,
     "metadata": {},
     "output_type": "execute_result"
    }
   ],
   "source": [
    "lista1 = [1, 2, 3, 4, 5, 6]\n",
    "lista2 = ['nathalia', 'exemplo', 'python']\n",
    "lista1 + lista2 #concatena lista"
   ]
  },
  {
   "cell_type": "code",
   "execution_count": 5,
   "id": "2b683bf7",
   "metadata": {},
   "outputs": [
    {
     "name": "stdout",
     "output_type": "stream",
     "text": [
      "True\n"
     ]
    }
   ],
   "source": [
    "print('nathalia' in lista2) #Verifica se existe a string 'nathalia' em lista2 "
   ]
  },
  {
   "cell_type": "code",
   "execution_count": 6,
   "id": "2698bc53",
   "metadata": {},
   "outputs": [
    {
     "data": {
      "text/plain": [
       "6"
      ]
     },
     "execution_count": 6,
     "metadata": {},
     "output_type": "execute_result"
    }
   ],
   "source": [
    "len(lista1) #tamanho da lista"
   ]
  },
  {
   "cell_type": "code",
   "execution_count": 7,
   "id": "77bc5075",
   "metadata": {},
   "outputs": [
    {
     "data": {
      "text/plain": [
       "6"
      ]
     },
     "execution_count": 7,
     "metadata": {},
     "output_type": "execute_result"
    }
   ],
   "source": [
    "max(lista1) #retorna o valor max"
   ]
  },
  {
   "cell_type": "code",
   "execution_count": 8,
   "id": "dd4ff34b",
   "metadata": {},
   "outputs": [
    {
     "data": {
      "text/plain": [
       "1"
      ]
     },
     "execution_count": 8,
     "metadata": {},
     "output_type": "execute_result"
    }
   ],
   "source": [
    "min(lista1) #retorna o valor min"
   ]
  },
  {
   "cell_type": "code",
   "execution_count": 9,
   "id": "677a26a4",
   "metadata": {},
   "outputs": [],
   "source": [
    "lista1.append(\"adiciona\")"
   ]
  },
  {
   "cell_type": "code",
   "execution_count": 10,
   "id": "e6e690d4",
   "metadata": {},
   "outputs": [
    {
     "data": {
      "text/plain": [
       "[1, 2, 3, 4, 5, 6, 'adiciona']"
      ]
     },
     "execution_count": 10,
     "metadata": {},
     "output_type": "execute_result"
    }
   ],
   "source": [
    "lista1"
   ]
  },
  {
   "cell_type": "code",
   "execution_count": 12,
   "id": "1af41068",
   "metadata": {},
   "outputs": [],
   "source": [
    "lista_cheia = [1, 2, 3, 4]"
   ]
  },
  {
   "cell_type": "code",
   "execution_count": 13,
   "id": "3e39196b",
   "metadata": {},
   "outputs": [],
   "source": [
    "lista_vazia = []"
   ]
  },
  {
   "cell_type": "code",
   "execution_count": 14,
   "id": "1ed0e20a",
   "metadata": {},
   "outputs": [],
   "source": [
    "for item in lista_cheia:\n",
    "    lista_vazia.append(item)\n",
    "    \n",
    "    # copia os item da lista cheia p lista vazia "
   ]
  },
  {
   "cell_type": "code",
   "execution_count": 15,
   "id": "fcd3d57e",
   "metadata": {},
   "outputs": [
    {
     "data": {
      "text/plain": [
       "[1, 2, 3, 4]"
      ]
     },
     "execution_count": 15,
     "metadata": {},
     "output_type": "execute_result"
    }
   ],
   "source": [
    "lista_vazia"
   ]
  },
  {
   "cell_type": "code",
   "execution_count": 16,
   "id": "44da0778",
   "metadata": {},
   "outputs": [
    {
     "name": "stdout",
     "output_type": "stream",
     "text": [
      "['poa', 'minas', 'sao paulo', 'fortaleza', 'manaus']\n"
     ]
    }
   ],
   "source": [
    "city = ['poa', 'minas', 'sao paulo']\n",
    "city.extend(['fortaleza', 'manaus']) #extende a lista com esses 2 elem \n",
    "\n",
    "print(city)"
   ]
  },
  {
   "cell_type": "code",
   "execution_count": 19,
   "id": "086877c6",
   "metadata": {},
   "outputs": [],
   "source": [
    "city.reverse()"
   ]
  },
  {
   "cell_type": "code",
   "execution_count": 20,
   "id": "fb1d1685",
   "metadata": {},
   "outputs": [
    {
     "data": {
      "text/plain": [
       "['manaus', 'fortaleza', 'sao paulo', 'minas', 'poa']"
      ]
     },
     "execution_count": 20,
     "metadata": {},
     "output_type": "execute_result"
    }
   ],
   "source": [
    "city"
   ]
  }
 ],
 "metadata": {
  "kernelspec": {
   "display_name": "Python 3",
   "language": "python",
   "name": "python3"
  },
  "language_info": {
   "codemirror_mode": {
    "name": "ipython",
    "version": 3
   },
   "file_extension": ".py",
   "mimetype": "text/x-python",
   "name": "python",
   "nbconvert_exporter": "python",
   "pygments_lexer": "ipython3",
   "version": "3.8.8"
  }
 },
 "nbformat": 4,
 "nbformat_minor": 5
}
